{
 "cells": [
  {
   "cell_type": "code",
   "execution_count": 1,
   "metadata": {},
   "outputs": [],
   "source": [
    "import seaborn as sns\n",
    "import matplotlib.pyplot as plt\n",
    "import pandas as pd"
   ]
  },
  {
   "cell_type": "code",
   "execution_count": 2,
   "metadata": {},
   "outputs": [
    {
     "data": {
      "text/html": [
       "<div>\n",
       "<style scoped>\n",
       "    .dataframe tbody tr th:only-of-type {\n",
       "        vertical-align: middle;\n",
       "    }\n",
       "\n",
       "    .dataframe tbody tr th {\n",
       "        vertical-align: top;\n",
       "    }\n",
       "\n",
       "    .dataframe thead th {\n",
       "        text-align: right;\n",
       "    }\n",
       "</style>\n",
       "<table border=\"1\" class=\"dataframe\">\n",
       "  <thead>\n",
       "    <tr style=\"text-align: right;\">\n",
       "      <th></th>\n",
       "      <th>Frames</th>\n",
       "      <th>number</th>\n",
       "      <th>count</th>\n",
       "    </tr>\n",
       "  </thead>\n",
       "  <tbody>\n",
       "    <tr>\n",
       "      <th>3000Number</th>\n",
       "      <td>of</td>\n",
       "      <td>base-pairs:</td>\n",
       "      <td>59</td>\n",
       "    </tr>\n",
       "    <tr>\n",
       "      <th>3002Number</th>\n",
       "      <td>of</td>\n",
       "      <td>base-pairs:</td>\n",
       "      <td>63</td>\n",
       "    </tr>\n",
       "    <tr>\n",
       "      <th>3004Number</th>\n",
       "      <td>of</td>\n",
       "      <td>base-pairs:</td>\n",
       "      <td>61</td>\n",
       "    </tr>\n",
       "    <tr>\n",
       "      <th>3006Number</th>\n",
       "      <td>of</td>\n",
       "      <td>base-pairs:</td>\n",
       "      <td>61</td>\n",
       "    </tr>\n",
       "    <tr>\n",
       "      <th>3008Number</th>\n",
       "      <td>of</td>\n",
       "      <td>base-pairs:</td>\n",
       "      <td>59</td>\n",
       "    </tr>\n",
       "  </tbody>\n",
       "</table>\n",
       "</div>"
      ],
      "text/plain": [
       "           Frames       number  count\n",
       "3000Number     of  base-pairs:     59\n",
       "3002Number     of  base-pairs:     63\n",
       "3004Number     of  base-pairs:     61\n",
       "3006Number     of  base-pairs:     61\n",
       "3008Number     of  base-pairs:     59"
      ]
     },
     "execution_count": 2,
     "metadata": {},
     "output_type": "execute_result"
    }
   ],
   "source": [
    "headers_list=['Frame','nuc','bp','Shear','Stretch','Stagger','Buckle','Propeller','Opening']\n",
    "loss_list=['Frames','number','count']\n",
    "l_sp20=pd.read_csv('emx1_sp_mm20_loss_bps_non-wc-spmm20.csv', names=loss_list)\n",
    "l_fn20=pd.read_csv('emx1_fn_mm20_loss_bps_non-wc-fnmm20.csv', names=loss_list)\n",
    "l_sp16_19=pd.read_csv('emx1_sp_mm16_19_loss_bps_non-wc-spmm16_19.csv', names=loss_list)\n",
    "l_fn16_19=pd.read_csv('emx1_fn_mm16_19_loss_bps_non-wc-fnmm16_19.csv', names=loss_list)\n",
    "l_sp17_20=pd.read_csv('emx1_sp_mm17-20_loss_bps_non-wc-spmm17-20.csv', names=loss_list)\n",
    "l_fn17_20=pd.read_csv('emx1_sp_mm17-20_loss_bps_non-wc-spmm17-20.csv', names=loss_list)\n",
    "l_sp16_19.head()"
   ]
  },
  {
   "cell_type": "code",
   "execution_count": 3,
   "metadata": {},
   "outputs": [
    {
     "data": {
      "text/html": [
       "<div>\n",
       "<style scoped>\n",
       "    .dataframe tbody tr th:only-of-type {\n",
       "        vertical-align: middle;\n",
       "    }\n",
       "\n",
       "    .dataframe tbody tr th {\n",
       "        vertical-align: top;\n",
       "    }\n",
       "\n",
       "    .dataframe thead th {\n",
       "        text-align: right;\n",
       "    }\n",
       "</style>\n",
       "<table border=\"1\" class=\"dataframe\">\n",
       "  <thead>\n",
       "    <tr style=\"text-align: right;\">\n",
       "      <th></th>\n",
       "      <th>Frame</th>\n",
       "      <th>nuc</th>\n",
       "      <th>bp</th>\n",
       "      <th>Shear</th>\n",
       "      <th>Stretch</th>\n",
       "      <th>Stagger</th>\n",
       "      <th>Buckle</th>\n",
       "      <th>Propeller</th>\n",
       "      <th>Opening</th>\n",
       "    </tr>\n",
       "  </thead>\n",
       "  <tbody>\n",
       "    <tr>\n",
       "      <th>0</th>\n",
       "      <td>2980</td>\n",
       "      <td>2</td>\n",
       "      <td>C-T</td>\n",
       "      <td>1.54</td>\n",
       "      <td>0.47</td>\n",
       "      <td>-1.06</td>\n",
       "      <td>-19.67</td>\n",
       "      <td>-13.78</td>\n",
       "      <td>-38.27</td>\n",
       "    </tr>\n",
       "    <tr>\n",
       "      <th>1</th>\n",
       "      <td>2982</td>\n",
       "      <td>2</td>\n",
       "      <td>C-T</td>\n",
       "      <td>1.06</td>\n",
       "      <td>0.04</td>\n",
       "      <td>-1.03</td>\n",
       "      <td>-15.83</td>\n",
       "      <td>-2.59</td>\n",
       "      <td>-25.05</td>\n",
       "    </tr>\n",
       "    <tr>\n",
       "      <th>2</th>\n",
       "      <td>2984</td>\n",
       "      <td>2</td>\n",
       "      <td>C-T</td>\n",
       "      <td>1.25</td>\n",
       "      <td>0.24</td>\n",
       "      <td>-0.71</td>\n",
       "      <td>-18.30</td>\n",
       "      <td>-9.75</td>\n",
       "      <td>-44.21</td>\n",
       "    </tr>\n",
       "    <tr>\n",
       "      <th>3</th>\n",
       "      <td>2986</td>\n",
       "      <td>2</td>\n",
       "      <td>C-T</td>\n",
       "      <td>1.44</td>\n",
       "      <td>0.85</td>\n",
       "      <td>-1.37</td>\n",
       "      <td>-25.47</td>\n",
       "      <td>-17.77</td>\n",
       "      <td>-40.53</td>\n",
       "    </tr>\n",
       "    <tr>\n",
       "      <th>4</th>\n",
       "      <td>2988</td>\n",
       "      <td>2</td>\n",
       "      <td>C-T</td>\n",
       "      <td>2.03</td>\n",
       "      <td>0.69</td>\n",
       "      <td>-0.94</td>\n",
       "      <td>-2.27</td>\n",
       "      <td>-15.74</td>\n",
       "      <td>-37.21</td>\n",
       "    </tr>\n",
       "  </tbody>\n",
       "</table>\n",
       "</div>"
      ],
      "text/plain": [
       "   Frame  nuc   bp  Shear  Stretch  Stagger  Buckle  Propeller  Opening\n",
       "0   2980    2  C-T   1.54     0.47    -1.06  -19.67     -13.78   -38.27\n",
       "1   2982    2  C-T   1.06     0.04    -1.03  -15.83      -2.59   -25.05\n",
       "2   2984    2  C-T   1.25     0.24    -0.71  -18.30      -9.75   -44.21\n",
       "3   2986    2  C-T   1.44     0.85    -1.37  -25.47     -17.77   -40.53\n",
       "4   2988    2  C-T   2.03     0.69    -0.94   -2.27     -15.74   -37.21"
      ]
     },
     "execution_count": 3,
     "metadata": {},
     "output_type": "execute_result"
    }
   ],
   "source": [
    "n_sp20=pd.read_csv('emx1_sp_mm20_non-wc_bps_non-wc-spmm20.csv', names=headers_list)\n",
    "n_fn20=pd.read_csv('emx1_fn_mm16_19_non-wc_bps_non-wc-fnmm16_19.csv', names=headers_list)\n",
    "n_sp16_19=pd.read_csv('emx1_sp_mm16_19_non-wc_bps_non-wc-spmm16_19.csv', names=headers_list)\n",
    "n_fn16_19=pd.read_csv('emx1_fn_mm16_19_non-wc_bps_non-wc-fnmm16_19.csv', names=headers_list)\n",
    "n_sp17_20=pd.read_csv('emx1_sp_mm17-20_non-wc_bps_non-wc-spmm17-20.csv', names=headers_list)\n",
    "n_fn17_20=pd.read_csv('emx1_fn_mm17-20_non-wc_bps_non-wc-fnmm17-20.csv', names=headers_list)\n",
    "n_fn16_19.head()"
   ]
  },
  {
   "cell_type": "code",
   "execution_count": 6,
   "metadata": {},
   "outputs": [
    {
     "data": {
      "image/png": "[encoded data removed]",
      "text/plain": [
       "<Figure size 720x360 with 1 Axes>"
      ]
     },
     "metadata": {
      "needs_background": "light"
     },
     "output_type": "display_data"
    }
   ],
   "source": [
    "import pandas as pd\n",
    "import matplotlib.pyplot as plt\n",
    "\n",
    "# Assuming n_sp20, n_sp16_19, and n_sp17_20 are the DataFrames for the respective datasets\n",
    "\n",
    "# Concatenate the Series and create a DataFrame\n",
    "df = pd.concat([n_sp20['bp'].value_counts(), n_sp16_19['bp'].value_counts(), n_sp17_20['bp'].value_counts()], axis=1)\n",
    "df.columns = ['Sp_mm20', 'Sp_mm16_19', 'Sp_mm17-20']\n",
    "\n",
    "# Sort the DataFrame in decreasing order based on counts\n",
    "df = df.sort_values(by='Sp_mm20', ascending=False)\n",
    "\n",
    "bar_width = 0.7\n",
    "ax = df.plot(kind='bar', stacked=True, width=bar_width, color=['#9c179e', '#ed7953', '#fdb42f'], edgecolor='black', linewidth=0.5)\n",
    "\n",
    "plt.ylabel('Count', fontsize=16, fontweight='bold')\n",
    "plt.xlabel('Non-Watson Crick bps', fontsize=16, fontweight='bold')\n",
    "plt.rc('xtick', labelsize=14)\n",
    "plt.rc('ytick', labelsize=14)\n",
    "\n",
    "# Set x-axis ticks and labels\n",
    "ax.set_xticks(range(len(df.index)))\n",
    "ax.set_xticklabels(df.index, rotation=90)\n",
    "\n",
    "# Add a legend for clarity\n",
    "plt.legend(fontsize=14)\n",
    "\n",
    "plt.gcf().set_size_inches(10, 5)\n",
    "plt.savefig('../figures/SpCas9_all_non-wc-count.svg')\n",
    "plt.show()\n"
   ]
  },
  {
   "cell_type": "code",
   "execution_count": 8,
   "metadata": {},
   "outputs": [
    {
     "data": {
      "image/png": "[encoded data removed]",
      "text/plain": [
       "<Figure size 504x360 with 1 Axes>"
      ]
     },
     "metadata": {
      "needs_background": "light"
     },
     "output_type": "display_data"
    }
   ],
   "source": [
    "df=pd.concat([n_fn20['bp'].value_counts(), n_fn16_19['bp'].value_counts(), n_fn17_20['bp'].value_counts()], axis=1)\n",
    "df.columns=['Fn_mm20','Fn_mm16_19','Fn_mm17-20']\n",
    "# Sort the DataFrame in decreasing order based on counts\n",
    "df = df.sort_values(by='Fn_mm20', ascending=False)\n",
    "bar_width = 0.8\n",
    "ax = df.plot(kind='bar', stacked=True, width=bar_width, color=['#31688e','#21918c','#90d743'] , edgecolor='black', linewidth=0.5)\n",
    "\n",
    "plt.ylabel('Count', fontsize=16,fontweight='bold')\n",
    "plt.xlabel('Non-Watson Crick bps', fontsize=16,fontweight='bold')\n",
    "plt.rc('xtick', labelsize=14)\n",
    "plt.rc('ytick', labelsize=14)\n",
    "\n",
    "# Set x-axis ticks and labels\n",
    "ax.set_xticks(range(len(df.index)))\n",
    "ax.set_xticklabels(df.index, rotation=90)\n",
    "\n",
    "# Add a legend for clarity\n",
    "plt.legend(fontsize=14)\n",
    "bar_width = 0.7\n",
    "bar_distance = 0.20 \n",
    "plt.gcf().set_size_inches(7, 5) # Adjust the distance between the bars her\n",
    "plt.savefig('../figures/FnCas9_all_non-wc-count.svg')\n",
    "\n",
    "plt.show()\n",
    "\n",
    "# Increase bar width and assign colors\n"
   ]
  },
  {
   "cell_type": "code",
   "execution_count": null,
   "metadata": {},
   "outputs": [],
   "source": []
  }
 ],
 "metadata": {
  "kernelspec": {
   "display_name": "gmxMMPBSA",
   "language": "python",
   "name": "gmxmmpbsa"
  },
  "language_info": {
   "codemirror_mode": {
    "name": "ipython",
    "version": 3
   },
   "file_extension": ".py",
   "mimetype": "text/x-python",
   "name": "python",
   "nbconvert_exporter": "python",
   "pygments_lexer": "ipython3",
   "version": "3.9.12"
  }
 },
 "nbformat": 4,
 "nbformat_minor": 5
}
